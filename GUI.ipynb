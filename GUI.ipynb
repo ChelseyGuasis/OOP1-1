{
  "nbformat": 4,
  "nbformat_minor": 0,
  "metadata": {
    "colab": {
      "name": "GUI.ipynb",
      "provenance": [],
      "authorship_tag": "ABX9TyP6w/2HIy+otmNBrQIIAFPK",
      "include_colab_link": true
    },
    "kernelspec": {
      "name": "python3",
      "display_name": "Python 3"
    },
    "language_info": {
      "name": "python"
    }
  },
  "cells": [
    {
      "cell_type": "markdown",
      "metadata": {
        "id": "view-in-github",
        "colab_type": "text"
      },
      "source": [
        "<a href=\"https://colab.research.google.com/github/ChelseyGuasis/OOP1-1/blob/main/GUI.ipynb\" target=\"_parent\"><img src=\"https://colab.research.google.com/assets/colab-badge.svg\" alt=\"Open In Colab\"/></a>"
      ]
    },
    {
      "cell_type": "markdown",
      "source": [
        "\n",
        "\n",
        "Students' Grade in OOP Subject\n",
        "\n"
      ],
      "metadata": {
        "id": "BvD28TC3R50z"
      }
    },
    {
      "cell_type": "code",
      "execution_count": null,
      "metadata": {
        "colab": {
          "base_uri": "https://localhost:8080/"
        },
        "id": "FYzr-Qk1R3Cr",
        "outputId": "58c5bd82-d27a-4578-eca6-95f8a1f8705a"
      },
      "outputs": [
        {
          "output_type": "stream",
          "name": "stdout",
          "text": [
            "My prelim_grade is 89\n",
            "My midterm_grade is 99\n",
            "My final_grade is 100\n",
            "My semestral garde is: 96.0\n",
            "My birthdate is:2022-04-04\n"
          ]
        }
      ],
      "source": [
        "#@title Students' Grade in OOP\n",
        "Student_Name = \"Chelsey L. Guasis\" #@param {type:\"string\"}\n",
        "prelim_grade =  89#@param {type: \"number\"}\n",
        "midterm_grade =  99#@param {type: \"number\"}\n",
        "final_grade = 100 #@param {type: \"number\"}\n",
        "semestral_grade = round((prelim_grade + midterm_grade + final_grade)/3,2)\n",
        "\n",
        "print(\"My prelim_grade is\" + \" \" + str(prelim_grade))\n",
        "print(\"My midterm_grade is\" + \" \" + str(midterm_grade))\n",
        "print(\"My final_grade is\" + \" \" + str(final_grade))\n",
        "print(\"My semestral garde is: \" + str(semestral_grade))\n",
        "\n",
        "Gender = \"Male\" #@param [\"Male\",\"Female\"]\n",
        "BirthDate = \"2002-06-23\" #@param {type: \"date\"}\n",
        "\n",
        "print(\"My birthdate is:\" + BirthDate)"
      ]
    },
    {
      "cell_type": "markdown",
      "source": [
        "Tkinter module - pycharm"
      ],
      "metadata": {
        "id": "YBuHatA1Yhnf"
      }
    }
  ]
}