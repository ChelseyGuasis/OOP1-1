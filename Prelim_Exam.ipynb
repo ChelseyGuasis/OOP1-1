{
  "nbformat": 4,
  "nbformat_minor": 0,
  "metadata": {
    "colab": {
      "name": "Prelim Exam.ipynb",
      "provenance": [],
      "authorship_tag": "ABX9TyOaVzaehdD2pXx3+6ZQzmWZ",
      "include_colab_link": true
    },
    "kernelspec": {
      "name": "python3",
      "display_name": "Python 3"
    },
    "language_info": {
      "name": "python"
    }
  },
  "cells": [
    {
      "cell_type": "markdown",
      "metadata": {
        "id": "view-in-github",
        "colab_type": "text"
      },
      "source": [
        "<a href=\"https://colab.research.google.com/github/ChelseyGuasis/OOP1-1/blob/main/Prelim_Exam.ipynb\" target=\"_parent\"><img src=\"https://colab.research.google.com/assets/colab-badge.svg\" alt=\"Open In Colab\"/></a>"
      ]
    },
    {
      "cell_type": "code",
      "source": [
        "class Student:\n",
        "  def __init__(self,Name,Student_No,Age,School,Course):\n",
        "    self.Name = Name\n",
        "    self.Student_No = Student_No\n",
        "    self.Age = Age\n",
        "    self.School = School\n",
        "    self.Course = Course\n",
        "\n",
        "  def Info(self):\n",
        "    print(\"My name is\",self.Name,\"with student number of\",self.Student_No,\"and I am\",self.Age + \".\",\"I'm currently taking\",self.Course,\"at\",self.School + \".\")\n",
        "\n",
        "Myself = Student(\"Chelsey L. Guasis\",202102319,\"19 years old\",\"BS in Computer Engineering\",\"Cavite State University-Main Campus\")\n",
        "Myself.Info()\n",
        "\n"
      ],
      "metadata": {
        "colab": {
          "base_uri": "https://localhost:8080/"
        },
        "id": "WyHiwKQ58mUy",
        "outputId": "e38cb58a-9d07-4200-e087-8289cf102927"
      },
      "execution_count": 12,
      "outputs": [
        {
          "output_type": "stream",
          "name": "stdout",
          "text": [
            "My name is Chelsey L. Guasis with student number of 202102319 and I am 19 years old. I'm currently taking Cavite State University-Main Campus at BS in Computer Engineering.\n"
          ]
        }
      ]
    }
  ]
}