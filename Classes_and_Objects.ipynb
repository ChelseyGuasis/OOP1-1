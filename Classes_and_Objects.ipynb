{
  "nbformat": 4,
  "nbformat_minor": 0,
  "metadata": {
    "colab": {
      "name": "Classes and Objects.ipynb",
      "provenance": [],
      "authorship_tag": "ABX9TyMBnMRd2Q1wLp9nXMeJi1So",
      "include_colab_link": true
    },
    "kernelspec": {
      "name": "python3",
      "display_name": "Python 3"
    },
    "language_info": {
      "name": "python"
    }
  },
  "cells": [
    {
      "cell_type": "markdown",
      "metadata": {
        "id": "view-in-github",
        "colab_type": "text"
      },
      "source": [
        "<a href=\"https://colab.research.google.com/github/ChelseyGuasis/OOP1-1/blob/main/Classes_and_Objects.ipynb\" target=\"_parent\"><img src=\"https://colab.research.google.com/assets/colab-badge.svg\" alt=\"Open In Colab\"/></a>"
      ]
    },
    {
      "cell_type": "markdown",
      "source": [
        "Application 2- Write a python program that displays the fullname of a student, student number, age, course, school. Create a class name OOP_1_1 and create info() method to display the information of student with fullname, student_no, age, course, school as attributes"
      ],
      "metadata": {
        "id": "WQciPQol1kM-"
      }
    },
    {
      "cell_type": "code",
      "source": [
        "class OOP_1_1:\n",
        "  def __init__ (self,fullname,student_no,age,course,school):\n",
        "    self.fullname = fullname\n",
        "    self.student_no = student_no\n",
        "    self.age = age\n",
        "    self.course = course\n",
        "    self.school = school\n",
        "\n",
        "  def Info(self):\n",
        "    #print(self.fullname,self.student_no,self.age,self.course,self.school)\n",
        "    print(\"Ny name is\",self.fullname)\n",
        "    print(\"My Student Number is\",self.student_no)\n",
        "    print(\"My age is\",self.age,\"years old\")\n",
        "    print(\"My course is\",self.course)\n",
        "    print(\"My school is\",self.school)\n",
        "\n",
        "student = OOP_1_1(\"Chelsey L. Guasis\",202102319,19,\"BSCpE\",\"CvSU\")\n",
        "student.Info()"
      ],
      "metadata": {
        "colab": {
          "base_uri": "https://localhost:8080/"
        },
        "id": "JYlrPR-h1m2w",
        "outputId": "96b841cf-22d5-4c07-f0d8-b17a36f56537"
      },
      "execution_count": 3,
      "outputs": [
        {
          "output_type": "stream",
          "name": "stdout",
          "text": [
            "Ny name is Chelsey L. Guasis\n",
            "My Student Number is 202102319\n",
            "My age is 19 years old\n",
            "My course is BSCpE\n",
            "My school is CvSU\n"
          ]
        }
      ]
    }
  ]
}