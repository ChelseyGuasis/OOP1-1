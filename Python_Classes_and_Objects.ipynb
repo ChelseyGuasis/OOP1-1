{
  "nbformat": 4,
  "nbformat_minor": 0,
  "metadata": {
    "colab": {
      "name": "Python Classes and Objects.ipynb",
      "provenance": [],
      "authorship_tag": "ABX9TyPz2hwuT1XnqigaV+TcJbft",
      "include_colab_link": true
    },
    "kernelspec": {
      "name": "python3",
      "display_name": "Python 3"
    },
    "language_info": {
      "name": "python"
    }
  },
  "cells": [
    {
      "cell_type": "markdown",
      "metadata": {
        "id": "view-in-github",
        "colab_type": "text"
      },
      "source": [
        "<a href=\"https://colab.research.google.com/github/ChelseyGuasis/OOP1-1/blob/main/Python_Classes_and_Objects.ipynb\" target=\"_parent\"><img src=\"https://colab.research.google.com/assets/colab-badge.svg\" alt=\"Open In Colab\"/></a>"
      ]
    },
    {
      "cell_type": "markdown",
      "source": [
        "Class"
      ],
      "metadata": {
        "id": "mDWUetMey6hQ"
      }
    },
    {
      "cell_type": "code",
      "execution_count": 1,
      "metadata": {
        "id": "V6J1eXUMy0-G"
      },
      "outputs": [],
      "source": [
        "class MyClass:        #name of class\n",
        "  pass               #create a class without variable and methods\n"
      ]
    },
    {
      "cell_type": "code",
      "source": [
        "from typing import AsyncGenerator\n",
        "class MyClass:\n",
        "  def __init__(self,name,age):\n",
        "   self.name=name                #create a class with attributes\n",
        "   self.age=age\n",
        "\n",
        "  def display(self):\n",
        "    print(self.name, self.age)\n",
        "\n",
        "person=MyClass(\"Chelsey\",19)      #create an object name\n",
        "\n",
        "print(person.name)\n",
        "print(person.age)\n",
        "person.display()"
      ],
      "metadata": {
        "colab": {
          "base_uri": "https://localhost:8080/"
        },
        "id": "FcFHMiRazttn",
        "outputId": "1581ce19-a7d0-4580-c8ae-69fb34b7d8b3"
      },
      "execution_count": 17,
      "outputs": [
        {
          "output_type": "stream",
          "name": "stdout",
          "text": [
            "Chelsey\n",
            "19\n",
            "Chelsey 19\n"
          ]
        }
      ]
    },
    {
      "cell_type": "code",
      "source": [
        "#Application 1 - Write a python program that computes for an area of rectangle: A=lxw\n",
        "\n",
        "class Rectangle:\n",
        "  def __init__(self,l,w):\n",
        "    self.l=l            #attribute names\n",
        "    self.w=w\n",
        "\n",
        "  def Area(self):\n",
        "    print(self.l*self.w)\n",
        "  \n",
        "rect=Rectangle(7,3)\n",
        "rect.Area()"
      ],
      "metadata": {
        "colab": {
          "base_uri": "https://localhost:8080/"
        },
        "id": "vtbE_3kl27nV",
        "outputId": "e820ca1f-a9e7-447f-b19f-c7d3a6daf6ff"
      },
      "execution_count": 18,
      "outputs": [
        {
          "output_type": "stream",
          "name": "stdout",
          "text": [
            "21\n"
          ]
        }
      ]
    }
  ]
}